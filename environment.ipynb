{
 "cells": [
  {
   "cell_type": "markdown",
   "metadata": {},
   "source": [
    "The game is played with an infinite deck of cards (i.e. cards are sampled\n",
    "with replacement)\n",
    "\n",
    "Each draw from the deck results in a value between 1 and 10 (uniformly\n",
    "distributed) with a colour of red (probability 1/3) or black (probability\n",
    "2/3).\n",
    "\n",
    "There are no aces or picture (face) cards in this game\n",
    "\n",
    "At the start of the game both the player and the dealer draw one black\n",
    "card (fully observed)\n",
    "\n",
    "Each turn the player may either stick or hit\n",
    "\n",
    "If the player hits then she draws another card from the deck\n",
    "\n",
    "If the player sticks she receives no further cards\n",
    "\n",
    "The values of the player’s cards are added (black cards) or subtracted (red\n",
    "cards)\n",
    "\n",
    "If the player’s sum exceeds 21, or becomes less than 1, then she “goes\n",
    "bust” and loses the game (reward -1)\n",
    "\n",
    "If the player sticks then the dealer starts taking turns. The dealer always\n",
    "sticks on any sum of 17 or greater, and hits otherwise. If the dealer goes\n",
    "bust, then the player wins; otherwise, the outcome – win (reward +1),\n",
    "lose (reward -1), or draw (reward 0) – is the player with the largest sum."
   ]
  },
  {
   "cell_type": "markdown",
   "metadata": {},
   "source": [
    "Input - dealers first card, action"
   ]
  },
  {
   "cell_type": "code",
   "execution_count": 10,
   "metadata": {},
   "outputs": [],
   "source": [
    "import random\n",
    "from enum import Enum"
   ]
  },
  {
   "cell_type": "code",
   "execution_count": 2,
   "metadata": {},
   "outputs": [],
   "source": [
    "class State:\n",
    "    def __init__(self, dealer_card, player_card, is_terminal=False):\n",
    "        \"\"\"\n",
    "        :type self.is_terminal: bool\n",
    "        :type self.dealer: int\n",
    "        :type self.player: int\n",
    "        \"\"\"\n",
    "        self.dealer = dealer_card.value\n",
    "        self.player = player_card.value\n",
    "        self.term = is_terminal"
   ]
  },
  {
   "cell_type": "code",
   "execution_count": 3,
   "metadata": {},
   "outputs": [],
   "source": [
    "class Card:\n",
    "    def __init__(self, force_black=False):\n",
    "        \"\"\"\n",
    "        :type self.value: int\n",
    "        \"\"\"\n",
    "\n",
    "        self.value = random.randint(1,10)\n",
    "        self.absolute_value = self.value\n",
    "        if force_black or random.randint(1,3) != 1:\n",
    "            self.is_black = True\n",
    "        else:\n",
    "            self.is_black = False\n",
    "            self.value = 0 - self.value\n",
    "        self.is_red = not self.is_black"
   ]
  },
  {
   "cell_type": "code",
   "execution_count": 11,
   "metadata": {},
   "outputs": [],
   "source": [
    "class Actions(Enum):\n",
    "    hit = 0\n",
    "    stick = 1\n",
    "    \n",
    "    def get_action(n):\n",
    "        return Actions.hit if(n==0)  else Actions.stick"
   ]
  },
  {
   "cell_type": "code",
   "execution_count": 13,
   "metadata": {},
   "outputs": [],
   "source": [
    "class Card:\n",
    "    def __init__(self,force_black = False):\n",
    "        \n",
    "        self.value = random.randint(1,10)\n",
    "        self.absolute_value = self.value\n",
    "        \n",
    "        if(force_black or random.randint(1,3)!=1):\n",
    "            self.is_black = True\n",
    "        else:\n",
    "            self.is_black = False\n",
    "            self.value = 0-self.value\n",
    "        \n",
    "        self.is_red = not self.is_black"
   ]
  },
  {
   "cell_type": "code",
   "execution_count": 6,
   "metadata": {},
   "outputs": [],
   "source": [
    "def step(s,a):\n",
    "    next_s = s\n",
    "    r = 0\n",
    "    if a == Actions.stick:\n",
    "        while not next_s.term:\n",
    "            if next_s.dealer > 21 or next_s.dealer<1:\n",
    "                next_s = True\n",
    "                r=1\n",
    "            elif next_s.dealer >= 17:\n",
    "                if next_s.dealer > next_dealer.player:\n",
    "                    next_s = True\n",
    "                    r = -1\n",
    "                else:\n",
    "                    next_s = True\n",
    "                    r = 1\n",
    "                    \n",
    "    else:\n",
    "        next_s.player += Card().value\n",
    "        if next_s.player < 1 or next_s.player>21:\n",
    "            next_s.term = True\n",
    "            r=1\n",
    "    return next_s,r\n",
    "    "
   ]
  },
  {
   "cell_type": "code",
   "execution_count": 14,
   "metadata": {},
   "outputs": [
    {
     "name": "stdout",
     "output_type": "stream",
     "text": [
      "state = 6, 4\n",
      "state = 11, 4\n",
      "state = 15, 4\n",
      "reward = 1\n"
     ]
    }
   ],
   "source": [
    "s = State(Card(True),Card(True))\n",
    "a = Actions.hit\n",
    "\n",
    "while not s.term:\n",
    "    # print (\"state = %d, %d\" % (s.player, s.dealer, s.term))\n",
    "    print (\"state = %s, %s\" % (s.player, s.dealer))\n",
    "    if s.player >= 17:\n",
    "        a = Actions.stick\n",
    "    s, r = step(s, a)\n",
    "\n",
    "print (\"reward = %d\" % (r))"
   ]
  },
  {
   "cell_type": "code",
   "execution_count": null,
   "metadata": {},
   "outputs": [],
   "source": []
  }
 ],
 "metadata": {
  "kernelspec": {
   "display_name": "Python 3",
   "language": "python",
   "name": "python3"
  },
  "language_info": {
   "codemirror_mode": {
    "name": "ipython",
    "version": 3
   },
   "file_extension": ".py",
   "mimetype": "text/x-python",
   "name": "python",
   "nbconvert_exporter": "python",
   "pygments_lexer": "ipython3",
   "version": "3.7.4"
  }
 },
 "nbformat": 4,
 "nbformat_minor": 2
}
